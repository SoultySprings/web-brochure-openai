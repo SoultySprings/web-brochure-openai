{
 "cells": [
  {
   "cell_type": "code",
   "id": "initial_id",
   "metadata": {
    "collapsed": true,
    "ExecuteTime": {
     "end_time": "2025-07-10T05:28:58.387642Z",
     "start_time": "2025-07-10T05:28:57.526385Z"
    }
   },
   "source": [
    "import os\n",
    "import requests\n",
    "import json\n",
    "from typing import List\n",
    "from dotenv import load_dotenv\n",
    "from bs4 import BeautifulSoup\n",
    "from IPython.display import Markdown, display, update_display\n",
    "from openai import OpenAI\n"
   ],
   "outputs": [],
   "execution_count": 1
  },
  {
   "metadata": {},
   "cell_type": "code",
   "source": [
    "load_dotenv()\n",
    "api_key = os.getenv('OPENAI_API_KEY')\n",
    "\n",
    "if api_key and api_key[:8]==('sk-proj-'):\n",
    "    print(\"API Key looks good so far\")\n",
    "else:\n",
    "    print(\"There might be a problem with your API key?\")\n",
    "\n",
    "MODEL = 'gpt-4o-mini'\n",
    "openai = OpenAI()"
   ],
   "id": "88d273970d0bb8fe",
   "outputs": [],
   "execution_count": null
  },
  {
   "metadata": {},
   "cell_type": "code",
   "source": [
    "class Website:\n",
    "    \"A utility class to represent a website we have scraped, now with links\"\n",
    "    url: str\n",
    "    title: str\n",
    "    body: str\n",
    "    links: list(str)\n",
    "    text: str\n",
    "\n",
    "    def __init__(self, url):\n",
    "        self.url = url\n",
    "        response = requests.get(url)\n",
    "        self.body = response.content\n",
    "        soup = BeautifulSoup(self.body, 'html.parser')\n",
    "        self.title = soup.title.string if soup.title else 'No title found'\n",
    "        if soup.body:\n",
    "            for irrelevant in soup.body(['script','style','img','input']):\n",
    "                irrelevant.decompose()\n",
    "            self.text = soup.body.get_text(separator='\\n',strip=True)\n",
    "        else:\n",
    "            self.text = ''\n",
    "        links = [link.get('href') for link in soup.find_all('a')]\n",
    "        self.links = [link for link in links if link]\n",
    "\n",
    "    def get_contents(self):\n",
    "        return f'Webpage title: \\n {self.title}\\nWebpage Contents:\\n{self.text}\\n\\n'\n"
   ],
   "id": "5c19d10afe3364cd",
   "outputs": [],
   "execution_count": null
  },
  {
   "metadata": {},
   "cell_type": "code",
   "outputs": [],
   "execution_count": null,
   "source": [
    "link_system_prompt = 'You are provided with a list of links found on a webpage. You are about to decide which of the links would be most relevant to include in a brochure about the company, such as the links to an About page, or a Company page, or Careers/Jobs page. \\n'\n",
    "link_system_prompt += 'You should respond in JSON  as in this example'\n",
    "link_system_prompt += \"\"\"\n",
    "{\n",
    "    \"links\": {\n",
    "        {\"type\": \"about page\", \"url\": \"https://full.url/goes/here/about\",}\n",
    "        {\"type\": \"careers page\", \"url\": \"https://another.full.url/careers\"}\n",
    "    }\n",
    "}\n",
    "\"\"\""
   ],
   "id": "2e31a2345e7811ea"
  },
  {
   "metadata": {},
   "cell_type": "code",
   "outputs": [],
   "execution_count": null,
   "source": [
    "def get_links_user_prompt(website):\n",
    "    user_prompt = f'Here is the list of links on the website of {website.url}'\n",
    "    user_prompt += 'Please decide which of these are relevant web links for a brochure about the company, respone with the full http url like http//full.url. Do not inlude Terms and Service, Privacy, email links.\\n'\n",
    "    user_prompt += 'Links (some might be relevant links)'\n",
    "    user_prompt += '\\n'.join(website.links)\n",
    "    return user_prompt"
   ],
   "id": "12eda79cc4e1da84"
  },
  {
   "metadata": {},
   "cell_type": "code",
   "outputs": [],
   "execution_count": null,
   "source": [
    "def get_links(url):\n",
    "    website = Website(url)\n",
    "    response = openai.chat.completions"
   ],
   "id": "e56cd375c8c08a60"
  }
 ],
 "metadata": {
  "kernelspec": {
   "display_name": "Python 3",
   "language": "python",
   "name": "python3"
  },
  "language_info": {
   "codemirror_mode": {
    "name": "ipython",
    "version": 2
   },
   "file_extension": ".py",
   "mimetype": "text/x-python",
   "name": "python",
   "nbconvert_exporter": "python",
   "pygments_lexer": "ipython2",
   "version": "2.7.6"
  }
 },
 "nbformat": 4,
 "nbformat_minor": 5
}
